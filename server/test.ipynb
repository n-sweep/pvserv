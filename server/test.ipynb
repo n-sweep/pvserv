{
 "cells": [
  {
   "cell_type": "code",
   "execution_count": null,
   "id": "a0cd1158",
   "metadata": {},
   "outputs": [],
   "source": [
    "import json\n",
    "import random\n",
    "import pandas as pd\n",
    "import plotly.io as pio\n",
    "import plotly.express as px\n",
    "import plotly.graph_objects as go\n",
    "from sklearn.datasets import load_iris\n",
    "\n",
    "# pio.templates.default = \"plotly_dark\"\n",
    "pio.templates.default"
   ]
  },
  {
   "cell_type": "markdown",
   "id": "22068be2",
   "metadata": {},
   "source": [
    "# Template Notebook"
   ]
  },
  {
   "cell_type": "code",
   "execution_count": null,
   "id": "66f326a4",
   "metadata": {},
   "outputs": [],
   "source": [
    "data = pd.DataFrame(load_iris()['data'])\n",
    "scales = [\n",
    "    'aggrnyl', 'agsunset', 'algae', 'amp', 'armyrose', 'balance',\n",
    "    'blackbody', 'bluered', 'blues', 'blugrn', 'bluyl', 'brbg',\n",
    "    'brwnyl', 'bugn', 'bupu', 'burg', 'burgyl', 'cividis', 'curl',\n",
    "    'darkmint', 'deep', 'delta', 'dense', 'earth', 'edge', 'electric',\n",
    "    'emrld', 'fall', 'geyser', 'gnbu', 'gray', 'greens', 'greys',\n",
    "    'haline', 'hot', 'hsv', 'ice', 'icefire', 'inferno', 'jet',\n",
    "    'magenta', 'magma', 'matter', 'mint', 'mrybm', 'mygbm', 'oranges',\n",
    "    'orrd', 'oryel', 'oxy', 'peach', 'phase', 'picnic', 'pinkyl',\n",
    "    'piyg', 'plasma', 'plotly3', 'portland', 'prgn', 'pubu', 'pubugn',\n",
    "    'puor', 'purd', 'purp', 'purples', 'purpor', 'rainbow', 'rdbu',\n",
    "    'rdgy', 'rdpu', 'rdylbu', 'rdylgn', 'redor', 'reds', 'solar',\n",
    "    'spectral', 'speed', 'sunset', 'sunsetdark', 'teal', 'tealgrn',\n",
    "    'tealrose', 'tempo', 'temps', 'thermal', 'tropic', 'turbid',\n",
    "    'turbo', 'twilight', 'viridis', 'ylgn', 'ylgnbu', 'ylorbr',\n",
    "    'ylorrd'\n",
    "]"
   ]
  },
  {
   "cell_type": "code",
   "execution_count": null,
   "id": "f1320406",
   "metadata": {},
   "outputs": [],
   "source": [
    "fig = px.scatter(data, x=0, y=1, color=2)\n",
    "# fig = fig.update_layout({'height': 300, 'width': 500})"
   ]
  },
  {
   "cell_type": "code",
   "execution_count": null,
   "id": "0dd353c8",
   "metadata": {},
   "outputs": [],
   "source": [
    "fig.data"
   ]
  },
  {
   "cell_type": "code",
   "execution_count": null,
   "id": "5f77f1f0",
   "metadata": {},
   "outputs": [],
   "source": [
    "for scale in random.sample(scales, 10):\n",
    "    x, y, c = random.sample(list(data.columns), 3)\n",
    "    fig = px.scatter(data, x=x, y=y, color=c, color_continuous_scale=scale)\n",
    "    fig.update_layout(dict(title=scale))\n",
    "    fig.show()"
   ]
  },
  {
   "cell_type": "code",
   "execution_count": null,
   "id": "4e6ee6e0",
   "metadata": {},
   "outputs": [],
   "source": [
    "for x in data.columns:\n",
    "    for y in data.columns:\n",
    "        fig = px.scatter(data, x=x, y=y)\n",
    "        fig.show()"
   ]
  },
  {
   "cell_type": "code",
   "execution_count": null,
   "id": "4f149e64",
   "metadata": {},
   "outputs": [],
   "source": [
    "fig = go.Figure(data=go.Table(\n",
    "   header=dict(values=data.columns),\n",
    "    cells=dict(values=[data[col] for col in data.columns]),\n",
    "))\n",
    "fig.show()"
   ]
  },
  {
   "cell_type": "code",
   "execution_count": null,
   "id": "24210fd2",
   "metadata": {},
   "outputs": [],
   "source": [
    "list(pio.templates)"
   ]
  },
  {
   "cell_type": "code",
   "execution_count": null,
   "id": "9c707fb3",
   "metadata": {},
   "outputs": [],
   "source": [
    "fig.to_json()"
   ]
  },
  {
   "cell_type": "code",
   "execution_count": null,
   "id": "51080da8",
   "metadata": {
    "lines_to_next_cell": 0
   },
   "outputs": [],
   "source": []
  },
  {
   "cell_type": "code",
   "execution_count": null,
   "id": "adf9514f",
   "metadata": {
    "lines_to_next_cell": 0
   },
   "outputs": [],
   "source": []
  },
  {
   "cell_type": "code",
   "execution_count": null,
   "id": "6722b5c8",
   "metadata": {
    "lines_to_next_cell": 0
   },
   "outputs": [],
   "source": []
  },
  {
   "cell_type": "code",
   "execution_count": null,
   "id": "91ac306c",
   "metadata": {
    "lines_to_next_cell": 0
   },
   "outputs": [],
   "source": []
  },
  {
   "cell_type": "code",
   "execution_count": null,
   "id": "e0047d1d",
   "metadata": {
    "lines_to_next_cell": 0
   },
   "outputs": [],
   "source": []
  },
  {
   "cell_type": "code",
   "execution_count": null,
   "id": "c469f4b1",
   "metadata": {
    "lines_to_next_cell": 0
   },
   "outputs": [],
   "source": []
  },
  {
   "cell_type": "code",
   "execution_count": null,
   "id": "de59fc9b",
   "metadata": {
    "lines_to_next_cell": 0
   },
   "outputs": [],
   "source": []
  },
  {
   "cell_type": "code",
   "execution_count": null,
   "id": "438014c1",
   "metadata": {
    "lines_to_next_cell": 0
   },
   "outputs": [],
   "source": []
  },
  {
   "cell_type": "code",
   "execution_count": null,
   "id": "218ff2e8",
   "metadata": {
    "lines_to_next_cell": 0
   },
   "outputs": [],
   "source": []
  },
  {
   "cell_type": "code",
   "execution_count": null,
   "id": "0ab24311",
   "metadata": {
    "lines_to_next_cell": 0
   },
   "outputs": [],
   "source": []
  },
  {
   "cell_type": "code",
   "execution_count": null,
   "id": "a1f9af31",
   "metadata": {
    "lines_to_next_cell": 0
   },
   "outputs": [],
   "source": []
  },
  {
   "cell_type": "code",
   "execution_count": null,
   "id": "aec83afc",
   "metadata": {
    "lines_to_next_cell": 0
   },
   "outputs": [],
   "source": []
  },
  {
   "cell_type": "code",
   "execution_count": null,
   "id": "72381b36",
   "metadata": {},
   "outputs": [],
   "source": []
  }
 ],
 "metadata": {
  "kernelspec": {
   "display_name": "Python3",
   "language": "python",
   "name": "Python3"
  }
 },
 "nbformat": 4,
 "nbformat_minor": 5
}
